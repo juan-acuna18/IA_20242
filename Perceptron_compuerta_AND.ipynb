{
  "nbformat": 4,
  "nbformat_minor": 0,
  "metadata": {
    "colab": {
      "provenance": [],
      "authorship_tag": "ABX9TyPH0IhnCgaLmw62ExepkrIJ",
      "include_colab_link": true
    },
    "kernelspec": {
      "name": "python3",
      "display_name": "Python 3"
    },
    "language_info": {
      "name": "python"
    }
  },
  "cells": [
    {
      "cell_type": "markdown",
      "metadata": {
        "id": "view-in-github",
        "colab_type": "text"
      },
      "source": [
        "<a href=\"https://colab.research.google.com/github/juanacuna18/IA_20242/blob/main/Perceptron_compuerta_AND.ipynb\" target=\"_parent\"><img src=\"https://colab.research.google.com/assets/colab-badge.svg\" alt=\"Open In Colab\"/></a>"
      ]
    },
    {
      "cell_type": "code",
      "execution_count": null,
      "metadata": {
        "id": "peuqzA4qYVN3"
      },
      "outputs": [],
      "source": [
        "import numpy as np"
      ]
    },
    {
      "cell_type": "markdown",
      "source": [
        "# Matriz de entradas y salidas"
      ],
      "metadata": {
        "id": "IwSKtLFtcfN6"
      }
    },
    {
      "cell_type": "code",
      "source": [
        "entradas = np.array([[0,0],[0,1],[1,0],[1,1]])\n",
        "salidas = np.array([0,0,0,1])\n",
        "pesos = np.array([0.6, 1])\n",
        "print(f'entradas:\\n{entradas}')\n",
        "print(f'salidas:{salidas}')\n",
        "print(f'pesos:{pesos}')"
      ],
      "metadata": {
        "colab": {
          "base_uri": "https://localhost:8080/"
        },
        "id": "vKcyFJN7YnKr",
        "outputId": "f9ce9e4b-9d1d-4085-fdde-b57b852c57bd"
      },
      "execution_count": null,
      "outputs": [
        {
          "output_type": "stream",
          "name": "stdout",
          "text": [
            "entradas:\n",
            "[[0 0]\n",
            " [0 1]\n",
            " [1 0]\n",
            " [1 1]]\n",
            "salidas:[0 0 0 1]\n",
            "pesos:[0.6 1. ]\n"
          ]
        }
      ]
    },
    {
      "cell_type": "markdown",
      "source": [
        "# Razon de aprendizaje y bias."
      ],
      "metadata": {
        "id": "ca6680XHcmip"
      }
    },
    {
      "cell_type": "code",
      "source": [
        "alpha = 0.5\n",
        "b = 0.2"
      ],
      "metadata": {
        "id": "KHoO6rRqclRi"
      },
      "execution_count": null,
      "outputs": []
    },
    {
      "cell_type": "markdown",
      "source": [
        "#Funcion de activación."
      ],
      "metadata": {
        "id": "oebEw4Tactli"
      }
    },
    {
      "cell_type": "code",
      "source": [
        "def funcion_step(num):\n",
        "  for i in range(len(num)):\n",
        "    if num[i] >= 0:\n",
        "      num[i] = 1\n",
        "    else:\n",
        "      num[i] = 0\n",
        "  return num"
      ],
      "metadata": {
        "id": "wUGIcdaRctMe"
      },
      "execution_count": null,
      "outputs": []
    },
    {
      "cell_type": "markdown",
      "source": [
        "#Evaluacion de la sumatoria y reajuste de pesos y bias."
      ],
      "metadata": {
        "id": "-lXnbIbocwpZ"
      }
    },
    {
      "cell_type": "code",
      "source": [
        "for i in range(500):\n",
        "  print(f'Epoca:{i+1}')\n",
        "  sumatoria = np.dot(entradas, pesos) + b\n",
        "  salida_neurona = funcion_step(sumatoria)\n",
        "  error = salidas - salida_neurona\n",
        "  pesos = pesos + alpha * np.dot(entradas.T, error)\n",
        "  b = b + alpha * np.sum(error)\n",
        "  print(f'salida_neurona:{salida_neurona}')\n",
        "  print(f'error:{error}\\n')\n",
        "  print(f'pesos:{pesos}\\n')\n",
        "  print(f'bias:{b}\\n')\n",
        "  if (error == 0).all():\n",
        "    break\n",
        "\n"
      ],
      "metadata": {
        "colab": {
          "base_uri": "https://localhost:8080/"
        },
        "id": "ECkI2e3RZuYQ",
        "outputId": "ab7b2c44-ebbf-403f-d695-6640f4d137ed"
      },
      "execution_count": null,
      "outputs": [
        {
          "output_type": "stream",
          "name": "stdout",
          "text": [
            "Epoca:1\n",
            "salida_neurona:[1. 1. 1. 1.]\n",
            "error:[-1. -1. -1.  0.]\n",
            "\n",
            "pesos:[0.1 0.5]\n",
            "\n",
            "bias:-1.3\n",
            "\n",
            "Epoca:2\n",
            "salida_neurona:[0. 0. 0. 0.]\n",
            "error:[0. 0. 0. 1.]\n",
            "\n",
            "pesos:[0.6 1. ]\n",
            "\n",
            "bias:-0.8\n",
            "\n",
            "Epoca:3\n",
            "salida_neurona:[0. 1. 0. 1.]\n",
            "error:[ 0. -1.  0.  0.]\n",
            "\n",
            "pesos:[0.6 0.5]\n",
            "\n",
            "bias:-1.3\n",
            "\n",
            "Epoca:4\n",
            "salida_neurona:[0. 0. 0. 0.]\n",
            "error:[0. 0. 0. 1.]\n",
            "\n",
            "pesos:[1.1 1. ]\n",
            "\n",
            "bias:-0.8\n",
            "\n",
            "Epoca:5\n",
            "salida_neurona:[0. 1. 1. 1.]\n",
            "error:[ 0. -1. -1.  0.]\n",
            "\n",
            "pesos:[0.6 0.5]\n",
            "\n",
            "bias:-1.8\n",
            "\n",
            "Epoca:6\n",
            "salida_neurona:[0. 0. 0. 0.]\n",
            "error:[0. 0. 0. 1.]\n",
            "\n",
            "pesos:[1.1 1. ]\n",
            "\n",
            "bias:-1.3\n",
            "\n",
            "Epoca:7\n",
            "salida_neurona:[0. 0. 0. 1.]\n",
            "error:[0. 0. 0. 0.]\n",
            "\n",
            "pesos:[1.1 1. ]\n",
            "\n",
            "bias:-1.3\n",
            "\n"
          ]
        }
      ]
    }
  ]
}